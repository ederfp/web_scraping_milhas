{
 "cells": [
  {
   "cell_type": "code",
   "execution_count": 1,
   "metadata": {
    "tags": []
   },
   "outputs": [],
   "source": [
    "from bs4 import BeautifulSoup\n",
    "import requests"
   ]
  },
  {
   "cell_type": "markdown",
   "metadata": {},
   "source": [
    "## Smiles"
   ]
  },
  {
   "cell_type": "code",
   "execution_count": 2,
   "metadata": {
    "tags": []
   },
   "outputs": [
    {
     "name": "stdout",
     "output_type": "stream",
     "text": [
      "Promoções Smiles \n",
      "\n"
     ]
    },
    {
     "name": "stderr",
     "output_type": "stream",
     "text": [
      "/usr/lib/python3/dist-packages/urllib3/connectionpool.py:1015: InsecureRequestWarning: Unverified HTTPS request is being made to host 'www.smiles.com.br'. Adding certificate verification is strongly advised. See: https://urllib3.readthedocs.io/en/latest/advanced-usage.html#ssl-warnings\n",
      "  warnings.warn(\n"
     ]
    }
   ],
   "source": [
    "smiles_url = 'https://www.smiles.com.br/home'\n",
    "\n",
    "page = requests.get(smiles_url, verify=False)\n",
    "resposta = page.text\n",
    "soup = BeautifulSoup(resposta, 'html.parser')\n",
    "\n",
    "title1 = soup.find_all('span', {'id': 'part1'})\n",
    "title2 = soup.find_all('span', {'id': 'part2'})\n",
    "desc = soup.find_all('p', {'id': 'banner_description'})\n",
    "link = soup.find_all('a', {'class': 'liferay-home-banner-action'})\n",
    "\n",
    "title1_list = [i1.text for i1 in title1]\n",
    "title2_list = [i2.text for i2 in title2]\n",
    "desc_list = [i3.text.strip() for i3 in desc]\n",
    "link_list = [i4['href'] for i4 in link]\n",
    "\n",
    "print('Promoções Smiles \\n')\n",
    "for i, promo in enumerate(title1_list):\n",
    "    print(f'{title1_list[i]} - {title2_list[i]} \\n{desc_list[i]} \\nLink: {link_list[i]}\\n')"
   ]
  },
  {
   "cell_type": "markdown",
   "metadata": {},
   "source": [
    "## Esfera Santander"
   ]
  },
  {
   "cell_type": "code",
   "execution_count": null,
   "metadata": {
    "tags": []
   },
   "outputs": [],
   "source": [
    "esfera_url = 'https://www.esfera.com.vc/p/casasbahia/e000100177'\n",
    "page = requests.get(esfera_url, verify=False)\n",
    "resposta = page.text\n",
    "soup = BeautifulSoup(resposta, 'html.parser')"
   ]
  },
  {
   "cell_type": "code",
   "execution_count": null,
   "metadata": {
    "tags": []
   },
   "outputs": [],
   "source": [
    "title1 = soup.find_all('img', {'class': 'util-img-responsive-center ccLazyLoaded'})\n",
    "title1.text"
   ]
  },
  {
   "cell_type": "code",
   "execution_count": null,
   "metadata": {},
   "outputs": [],
   "source": []
  }
 ],
 "metadata": {
  "kernelspec": {
   "display_name": "Python 3 (ipykernel)",
   "language": "python",
   "name": "python3"
  },
  "language_info": {
   "codemirror_mode": {
    "name": "ipython",
    "version": 3
   },
   "file_extension": ".py",
   "mimetype": "text/x-python",
   "name": "python",
   "nbconvert_exporter": "python",
   "pygments_lexer": "ipython3",
   "version": "3.10.6"
  }
 },
 "nbformat": 4,
 "nbformat_minor": 4
}
